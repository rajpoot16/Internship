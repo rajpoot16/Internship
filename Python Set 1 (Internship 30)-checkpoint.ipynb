{
 "cells": [
  {
   "cell_type": "markdown",
   "id": "686083f5",
   "metadata": {},
   "source": [
    "Q11. Write a python program to find the factorial of a number."
   ]
  },
  {
   "cell_type": "code",
   "execution_count": 1,
   "id": "28ec1231",
   "metadata": {},
   "outputs": [
    {
     "name": "stdout",
     "output_type": "stream",
     "text": [
      "Enter a number: 3\n",
      "Factorial of 3 is 6\n"
     ]
    }
   ],
   "source": [
    "def factorial (n):\n",
    "    if (n==1 or n==0):\n",
    "        return 1\n",
    "    else:\n",
    "        return n*factorial(n-1)\n",
    "    \n",
    "n=int(input(\"Enter a number: \"))\n",
    "print(\"Factorial of\",n,\"is\",factorial(n))"
   ]
  },
  {
   "cell_type": "markdown",
   "id": "eea0d07e",
   "metadata": {},
   "source": [
    "Q12. Write a python program to find whether a number is prime or composite"
   ]
  },
  {
   "cell_type": "code",
   "execution_count": 2,
   "id": "94f6aabf",
   "metadata": {},
   "outputs": [
    {
     "name": "stdout",
     "output_type": "stream",
     "text": [
      "Enter a number: 11\n",
      "11 number is prime but not composite number\n"
     ]
    }
   ],
   "source": [
    "n=int(input('Enter a number: '))\n",
    "if(n==0 or n==1):\n",
    "    print(n,\"Number is neither prime nor composite\")\n",
    "elif n>1:\n",
    "    for i in range(2,n):\n",
    "        if(n%i == 0):\n",
    "            print(n,\"is not prime but composite number\")\n",
    "            break\n",
    "    else:\n",
    "        print(n,\"number is prime but not composite number\")\n",
    "\n",
    "else:\n",
    "    print(\"Enter positive number only!\")"
   ]
  },
  {
   "cell_type": "markdown",
   "id": "5962ae7d",
   "metadata": {},
   "source": [
    "Q13. Write a python program to check whether a given string is palindrome or not."
   ]
  },
  {
   "cell_type": "code",
   "execution_count": 3,
   "id": "0b01f4c3",
   "metadata": {},
   "outputs": [
    {
     "name": "stdout",
     "output_type": "stream",
     "text": [
      "Enter a string is palindrome or not: rotator\n",
      "The string is a palindrome.\n"
     ]
    }
   ],
   "source": [
    "strng=input(\"Enter a string is palindrome or not: \")\n",
    "\n",
    "strng=strng.casefold()\n",
    "rev_str=reversed(strng)\n",
    "if (list(strng)) == list(rev_str):\n",
    "    print (\"The string is a palindrome.\")\n",
    "else:\n",
    "    print (\"The string is not a palindrome.\")"
   ]
  },
  {
   "cell_type": "markdown",
   "id": "bdfb185f",
   "metadata": {},
   "source": [
    "Q14. Write a Python program to get the third side of right-angled triangle from two given sides."
   ]
  },
  {
   "cell_type": "code",
   "execution_count": 4,
   "id": "72e0bd0c",
   "metadata": {},
   "outputs": [
    {
     "name": "stdout",
     "output_type": "stream",
     "text": [
      "Enter base: 10\n",
      "Enter height: 12\n",
      "Hypotenuse is :  15.620499351813308\n"
     ]
    }
   ],
   "source": [
    "import math\n",
    "a= float(input('Enter base: '))\n",
    "b= float(input('Enter height: '))\n",
    "c= math.sqrt(a**2 + b**2)\n",
    "    \n",
    "print(\"Hypotenuse is : \", c)"
   ]
  },
  {
   "cell_type": "markdown",
   "id": "cb38b526",
   "metadata": {},
   "source": [
    "Q15. Write a python program to print the frequency of each of the characters present in a given string"
   ]
  },
  {
   "cell_type": "code",
   "execution_count": 5,
   "id": "c1870281",
   "metadata": {},
   "outputs": [
    {
     "name": "stdout",
     "output_type": "stream",
     "text": [
      "Count of all characters is: \n",
      " {'T': 2, 'e': 2, 'a': 2, 'm': 2, 'i': 1, 'n': 1, 'w': 1, 'o': 1, 'r': 1, 'k': 1}\n"
     ]
    }
   ],
   "source": [
    "strng=\"TeaminTeamwork\"\n",
    "\n",
    "dict={}\n",
    "\n",
    "for i in strng:\n",
    "    if i in dict:\n",
    "        dict[i] +=1\n",
    "    else:\n",
    "        dict[i]=1\n",
    "\n",
    "print(\"Count of all characters is: \\n\", dict)"
   ]
  },
  {
   "cell_type": "code",
   "execution_count": null,
   "id": "f8ce290a",
   "metadata": {},
   "outputs": [],
   "source": []
  }
 ],
 "metadata": {
  "kernelspec": {
   "display_name": "Python 3 (ipykernel)",
   "language": "python",
   "name": "python3"
  },
  "language_info": {
   "codemirror_mode": {
    "name": "ipython",
    "version": 3
   },
   "file_extension": ".py",
   "mimetype": "text/x-python",
   "name": "python",
   "nbconvert_exporter": "python",
   "pygments_lexer": "ipython3",
   "version": "3.9.7"
  }
 },
 "nbformat": 4,
 "nbformat_minor": 5
}
